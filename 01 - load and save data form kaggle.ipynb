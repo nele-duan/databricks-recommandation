{
 "cells": [
  {
   "cell_type": "markdown",
   "metadata": {
    "application/vnd.databricks.v1+cell": {
     "cellMetadata": {},
     "inputWidgets": {},
     "nuid": "19bd215e-2e1d-4b4f-a985-8b46b01dc3c5",
     "showTitle": false,
     "tableResultSettingsMap": {},
     "title": ""
    }
   },
   "source": [
    "# load data"
   ]
  },
  {
   "cell_type": "code",
   "execution_count": 0,
   "metadata": {
    "application/vnd.databricks.v1+cell": {
     "cellMetadata": {
      "byteLimit": 2048000,
      "rowLimit": 10000
     },
     "inputWidgets": {},
     "nuid": "8e44b861-315d-45af-8e4a-8f942071090b",
     "showTitle": false,
     "tableResultSettingsMap": {},
     "title": ""
    }
   },
   "outputs": [],
   "source": [
    "%python\n",
    "books = spark.table(\"data_duan.`recommandation-raw`.books\")\n",
    "users = spark.table(\"data_duan.`recommandation-raw`.users\")\n",
    "ratings = spark.table(\"data_duan.`recommandation-raw`.ratings\")"
   ]
  },
  {
   "cell_type": "code",
   "execution_count": 0,
   "metadata": {
    "application/vnd.databricks.v1+cell": {
     "cellMetadata": {
      "byteLimit": 2048000,
      "rowLimit": 10000
     },
     "inputWidgets": {},
     "nuid": "820949ba-90eb-422c-b4a9-31849915eb14",
     "showTitle": false,
     "tableResultSettingsMap": {},
     "title": ""
    }
   },
   "outputs": [],
   "source": [
    "%python\n",
    "import mlflow\n",
    "import mlflow.spark\n",
    "from pyspark.ml.recommendation import ALS\n",
    "from pyspark.ml.feature import StringIndexer\n",
    "\n",
    "# Convert ISBN (string) to a numeric index\n",
    "isbn_indexer = StringIndexer(inputCol=\"ISBN\", outputCol=\"book_id\")\n",
    "user_indexer = StringIndexer(inputCol=\"User-ID\", outputCol=\"user_id\")\n",
    "\n",
    "# Fit and transform the data\n",
    "ratings_valiated = isbn_indexer.fit(ratings).transform(ratings)\n",
    "ratings_valiated = user_indexer.fit(ratings_valiated).transform(ratings_valiated)\n",
    "\n",
    "# Select only necessary columns\n",
    "ratings_valiated = ratings_valiated.select(\"user_id\", \"book_id\", \"Book-Rating\")\n",
    "ratings_valiated.write.mode(\"overwrite\").saveAsTable(\"data_duan.valiated.ratings\")\n",
    "\n",
    "# ALS Model\n",
    "als = ALS(\n",
    "    userCol=\"user_id\",\n",
    "    itemCol=\"book_id\",\n",
    "    ratingCol=\"Book-Rating\",\n",
    "    rank=10,\n",
    "    maxIter=10,\n",
    "    regParam=0.1,\n",
    "    coldStartStrategy=\"drop\"\n",
    ")\n",
    "\n",
    "train_ratings, test_ratings, validation_ratings = ratings_valiated.randomSplit([0.8, 0.1, 0.1], seed=42)\n",
    "# Train model\n",
    "model = als.fit(train_ratings)\n",
    "\n",
    "# Log the model with MLflow\n",
    "with mlflow.start_run():\n",
    "    mlflow.spark.log_model(model, \"als_model\")\n",
    "    mlflow.log_param(\"rank\", 10)\n",
    "    mlflow.log_param(\"maxIter\", 10)\n",
    "    mlflow.log_param(\"regParam\", 0.1)\n",
    "    mlflow.log_param(\"coldStartStrategy\", \"drop\")"
   ]
  },
  {
   "cell_type": "code",
   "execution_count": 0,
   "metadata": {
    "application/vnd.databricks.v1+cell": {
     "cellMetadata": {},
     "inputWidgets": {},
     "nuid": "81f24a41-928b-4c6d-8bfd-b34b7700c42b",
     "showTitle": false,
     "tableResultSettingsMap": {},
     "title": ""
    }
   },
   "outputs": [],
   "source": [
    "from pyspark.ml.evaluation import RegressionEvaluator\n",
    "\n",
    "# Make predictions on test data\n",
    "predictions = model.transform(test_ratings)\n",
    "\n",
    "# Drop NaN values (caused by cold start)\n",
    "predictions = predictions.na.drop()\n",
    "\n",
    "# Evaluate using RMSE\n",
    "evaluator = RegressionEvaluator(\n",
    "    metricName=\"rmse\",\n",
    "    labelCol=\"Book-Rating\",\n",
    "    predictionCol=\"prediction\"\n",
    ")\n",
    "\n",
    "rmse = evaluator.evaluate(predictions)\n",
    "print(f\"Root Mean Squared Error (RMSE): {rmse}\")"
   ]
  }
 ],
 "metadata": {
  "application/vnd.databricks.v1+notebook": {
   "computePreferences": null,
   "dashboards": [],
   "environmentMetadata": {
    "base_environment": "",
    "environment_version": "2"
   },
   "language": "python",
   "notebookMetadata": {
    "pythonIndentUnit": 4
   },
   "notebookName": "01 - load and save data form kaggle",
   "widgets": {}
  },
  "language_info": {
   "name": "python"
  }
 },
 "nbformat": 4,
 "nbformat_minor": 0
}
