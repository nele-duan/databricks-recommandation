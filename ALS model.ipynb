{
 "cells": [
  {
   "cell_type": "markdown",
   "metadata": {
    "application/vnd.databricks.v1+cell": {
     "cellMetadata": {},
     "inputWidgets": {},
     "nuid": "19bd215e-2e1d-4b4f-a985-8b46b01dc3c5",
     "showTitle": false,
     "tableResultSettingsMap": {},
     "title": ""
    }
   },
   "source": [
    "# load data"
   ]
  },
  {
   "cell_type": "code",
   "execution_count": 0,
   "metadata": {
    "application/vnd.databricks.v1+cell": {
     "cellMetadata": {
      "byteLimit": 2048000,
      "rowLimit": 10000
     },
     "inputWidgets": {},
     "nuid": "8e44b861-315d-45af-8e4a-8f942071090b",
     "showTitle": false,
     "tableResultSettingsMap": {},
     "title": ""
    }
   },
   "outputs": [],
   "source": [
    "%python\n",
    "books = spark.table(\"data_duan.`recommandation-raw`.books\")\n",
    "users = spark.table(\"data_duan.`recommandation-raw`.users\")\n",
    "ratings = spark.table(\"data_duan.`recommandation-raw`.ratings\")"
   ]
  },
  {
   "cell_type": "code",
   "execution_count": 0,
   "metadata": {
    "application/vnd.databricks.v1+cell": {
     "cellMetadata": {
      "byteLimit": 2048000,
      "rowLimit": 10000
     },
     "inputWidgets": {},
     "nuid": "820949ba-90eb-422c-b4a9-31849915eb14",
     "showTitle": false,
     "tableResultSettingsMap": {},
     "title": ""
    }
   },
   "outputs": [],
   "source": [
    "%python\n",
    "import mlflow\n",
    "import mlflow.spark\n",
    "from pyspark.ml.recommendation import ALS\n",
    "from pyspark.ml.feature import StringIndexer\n",
    "\n",
    "# Convert ISBN (string) to a numeric index\n",
    "isbn_indexer = StringIndexer(inputCol=\"ISBN\", outputCol=\"book_id\")\n",
    "user_indexer = StringIndexer(inputCol=\"User-ID\", outputCol=\"user_id\")\n",
    "\n",
    "# Fit and transform the data\n",
    "ratings_valiated = isbn_indexer.fit(ratings).transform(ratings)\n",
    "ratings_valiated = user_indexer.fit(ratings_valiated).transform(ratings_valiated)\n",
    "\n",
    "\n",
    "# Select only necessary columns\n",
    "ratings_valiated = ratings_valiated.select(\"user_id\", \"book_id\", \"Book-Rating\")\n",
    "ratings_valiated.write.mode(\"overwrite\").saveAsTable(\"data_duan.valiated.ratings\")\n"
   ]
  },
  {
   "cell_type": "markdown",
   "metadata": {
    "application/vnd.databricks.v1+cell": {
     "cellMetadata": {},
     "inputWidgets": {},
     "nuid": "84c0feb0-8ef8-4015-91a3-5a9f585516b4",
     "showTitle": false,
     "tableResultSettingsMap": {},
     "title": ""
    }
   },
   "source": [
    "# train"
   ]
  },
  {
   "cell_type": "code",
   "execution_count": 0,
   "metadata": {
    "application/vnd.databricks.v1+cell": {
     "cellMetadata": {
      "byteLimit": 2048000,
      "rowLimit": 10000
     },
     "inputWidgets": {},
     "nuid": "0ec07a4b-c1b4-4440-877c-2d7af9ca53d1",
     "showTitle": false,
     "tableResultSettingsMap": {},
     "title": ""
    }
   },
   "outputs": [],
   "source": [
    "%python\n",
    "import mlflow\n",
    "import mlflow.spark\n",
    "from pyspark.ml.recommendation import ALS\n",
    "from pyspark.ml.feature import StringIndexer\n",
    "from mlflow.models.signature import infer_signature\n",
    "from pyspark.sql.functions import col, when, least, lit\n",
    "\n",
    "ratings_valiated = spark.table(\"data_duan.`valiated`.ratings\")\n",
    "\n",
    "# ALS Model\n",
    "als = ALS(\n",
    "    userCol=\"user_id\",\n",
    "    itemCol=\"book_id\",\n",
    "    ratingCol=\"Book-Rating\",\n",
    "    rank=10,\n",
    "    maxIter=10,\n",
    "    regParam=0.1,\n",
    "    coldStartStrategy=\"drop\"\n",
    ")\n",
    "\n",
    "train_ratings, test_ratings, validation_ratings = ratings_valiated.randomSplit([0.8, 0.1, 0.1], seed=42)\n",
    "# Train model\n",
    "model = als.fit(train_ratings)\n",
    "\n",
    "# Infer the model signature\n",
    "predictions = model.transform(train_ratings)\n",
    "\n",
    "# Ensure ratings are valid\n",
    "predictions = predictions.withColumn(\n",
    "    \"prediction\",\n",
    "    least(when(col(\"prediction\") < 0, lit(0))  # Ensure ratings are ≥ 0\n",
    "         .otherwise(col(\"prediction\").cast(\"int\")), lit(10))  # Cap at 10\n",
    ")\n",
    "\n",
    "# Infer signature\n",
    "signature = infer_signature(train_ratings.toPandas(), predictions.toPandas())\n",
    "\n",
    "# Log model in MLflow\n",
    "with mlflow.start_run() as run:\n",
    "    mlflow.spark.log_model(model, \"als_model\", signature=signature)\n",
    "    mlflow.log_param(\"rank\", 10)\n",
    "    mlflow.log_param(\"maxIter\", 10)\n",
    "    mlflow.log_param(\"regParam\", 0.1)\n",
    "    mlflow.log_param(\"coldStartStrategy\", \"drop\")\n",
    "\n",
    "    # Register model in MLflow\n",
    "    try:\n",
    "        mlflow.register_model(f\"runs:/{run.info.run_id}/als_model\", \"ALSBookRecommendationModel\")\n",
    "    except Exception as e:\n",
    "        print(f\"Model registration failed: {e}\")\n",
    "\n",
    "print(\"Model training and logging complete! 🚀\")"
   ]
  },
  {
   "cell_type": "code",
   "execution_count": 0,
   "metadata": {
    "application/vnd.databricks.v1+cell": {
     "cellMetadata": {
      "byteLimit": 2048000,
      "rowLimit": 10000
     },
     "inputWidgets": {},
     "nuid": "7552ffac-b763-4cce-be14-e366cc795de9",
     "showTitle": false,
     "tableResultSettingsMap": {},
     "title": ""
    }
   },
   "outputs": [],
   "source": [
    "import mlflow.spark\n",
    "\n",
    "# Load the model\n",
    "model_uri = \"models:/ALSBookRecommendationModel/5\"\n",
    "model = mlflow.spark.load_model(model_uri)\n",
    "\n",
    "# Make predictions on validation data\n",
    "predictions = model.transform(validation_ratings)\n",
    "\n",
    "# Fix the negative and float values\n",
    "predictions = predictions.withColumn(\n",
    "    \"prediction\",\n",
    "    least(\n",
    "        when(col(\"prediction\") < 0, lit(0))  # Ensure ratings are ≥ 0\n",
    "        .otherwise(col(\"prediction\").cast(\"int\")),  # Convert to int\n",
    "        lit(10)  # Cap ratings at 10 (optional)\n",
    "    )\n",
    ")\n",
    "\n",
    "# Display predictions\n",
    "display(predictions)"
   ]
  },
  {
   "cell_type": "code",
   "execution_count": 0,
   "metadata": {
    "application/vnd.databricks.v1+cell": {
     "cellMetadata": {
      "byteLimit": 2048000,
      "rowLimit": 10000
     },
     "inputWidgets": {},
     "nuid": "81f24a41-928b-4c6d-8bfd-b34b7700c42b",
     "showTitle": false,
     "tableResultSettingsMap": {},
     "title": ""
    }
   },
   "outputs": [],
   "source": [
    "from pyspark.ml.evaluation import RegressionEvaluator\n",
    "\n",
    "# Make predictions on test data\n",
    "predictions = model.transform(test_ratings)\n",
    "\n",
    "# Drop NaN values (caused by cold start)\n",
    "predictions = predictions.na.drop()\n",
    "\n",
    "# Evaluate using RMSE\n",
    "evaluator = RegressionEvaluator(\n",
    "    metricName=\"rmse\",\n",
    "    labelCol=\"Book-Rating\",\n",
    "    predictionCol=\"prediction\"\n",
    ")\n",
    "\n",
    "rmse = evaluator.evaluate(predictions)\n",
    "print(f\"Root Mean Squared Error (RMSE): {rmse}\")"
   ]
  }
 ],
 "metadata": {
  "application/vnd.databricks.v1+notebook": {
   "computePreferences": null,
   "dashboards": [],
   "environmentMetadata": {
    "base_environment": "",
    "environment_version": "2"
   },
   "language": "python",
   "notebookMetadata": {
    "pythonIndentUnit": 4
   },
   "notebookName": "ALS model",
   "widgets": {}
  },
  "language_info": {
   "name": "python"
  }
 },
 "nbformat": 4,
 "nbformat_minor": 0
}
